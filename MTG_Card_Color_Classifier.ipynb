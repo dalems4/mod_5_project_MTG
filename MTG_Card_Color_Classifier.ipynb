{
 "cells": [
  {
   "cell_type": "markdown",
   "metadata": {},
   "source": [
    "## Predict what color a card is based on it's text in Magic the Gathering"
   ]
  },
  {
   "cell_type": "markdown",
   "metadata": {},
   "source": [
    "# Install Wizards of the Coast's API wrapper for python"
   ]
  },
  {
   "cell_type": "code",
   "execution_count": null,
   "metadata": {},
   "outputs": [],
   "source": [
    "!pip install mtgsdk"
   ]
  },
  {
   "cell_type": "markdown",
   "metadata": {},
   "source": [
    "# Import nessesary tools"
   ]
  },
  {
   "cell_type": "code",
   "execution_count": null,
   "metadata": {},
   "outputs": [],
   "source": [
    "import numpy as np\n",
    "import pandas as pd\n",
    "from mtgsdk import Card\n",
    "from mtgsdk import Set"
   ]
  },
  {
   "cell_type": "markdown",
   "metadata": {},
   "source": [
    "# Collect Data"
   ]
  },
  {
   "cell_type": "code",
   "execution_count": null,
   "metadata": {},
   "outputs": [],
   "source": [
    "def collect_magic_set(mtg_set_code=\"###\"):\n",
    "    cards = Card.where(set=mtg_set_code).all()\n",
    "    return cards\n",
    "\n",
    "def get_text(magic_set):\n",
    "    \"\"\"Uses wizards API to build a dictionary of cards for one \"magic_set\": name, text, and colors\"\"\"\n",
    "    whole_set = []\n",
    "    for card in magic_set:\n",
    "        cards = {\n",
    "            'text' : card.text,\n",
    "            'colors' : card.colors,\n",
    "        }\n",
    "        \n",
    "        whole_set.append(cards)\n",
    "    return whole_set\n",
    "\n",
    "def get_df(mtg_set_alias):\n",
    "    magic_set = collect_magic_set(mtg_set_alias)\n",
    "    magic_set_json = get_text(magic_set)\n",
    "    magic_set_df = pd.DataFrame(magic_set_json)\n",
    "    return magic_set_df"
   ]
  },
  {
   "cell_type": "code",
   "execution_count": null,
   "metadata": {},
   "outputs": [],
   "source": [
    "m10_df = get_df('m10')"
   ]
  },
  {
   "cell_type": "code",
   "execution_count": null,
   "metadata": {},
   "outputs": [],
   "source": [
    "# Preprocessing\n",
    "\n",
    "# vanilla creatures are creatures with no text and just stats and a name\n",
    "m10_df['vanilla_creature'] = m10_df['text'].apply(lambda x : 1 if x is None else 0)"
   ]
  },
  {
   "cell_type": "code",
   "execution_count": null,
   "metadata": {},
   "outputs": [],
   "source": [
    "m10_df = m10_df.replace('\\n',' ', regex=True)\n",
    "m10_df"
   ]
  },
  {
   "cell_type": "code",
   "execution_count": null,
   "metadata": {},
   "outputs": [],
   "source": [
    "m13_df = get_df('m13')\n",
    "m15_df = get_df('m15')\n",
    "m16_df = get_df('m16')\n",
    "m17_df = get_df('m17')\n",
    "m20_df = get_df('m20')"
   ]
  }
 ],
 "metadata": {
  "kernelspec": {
   "display_name": "Python 3",
   "language": "python",
   "name": "python3"
  },
  "language_info": {
   "codemirror_mode": {
    "name": "ipython",
    "version": 3
   },
   "file_extension": ".py",
   "mimetype": "text/x-python",
   "name": "python",
   "nbconvert_exporter": "python",
   "pygments_lexer": "ipython3",
   "version": "3.7.3"
  }
 },
 "nbformat": 4,
 "nbformat_minor": 2
}
