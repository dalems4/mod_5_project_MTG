{
 "cells": [
  {
   "cell_type": "markdown",
   "metadata": {},
   "source": [
    "## Predict what color a card is based on it's text in Magic the Gathering"
   ]
  },
  {
   "cell_type": "markdown",
   "metadata": {},
   "source": [
    "# Install Wizards of the Coast's API wrapper for python"
   ]
  },
  {
   "cell_type": "code",
   "execution_count": null,
   "metadata": {},
   "outputs": [],
   "source": [
    "!pip install mtgsdk"
   ]
  },
  {
   "cell_type": "markdown",
   "metadata": {},
   "source": [
    "# Import nessesary tools"
   ]
  },
  {
   "cell_type": "code",
   "execution_count": 2,
   "metadata": {},
   "outputs": [],
   "source": [
    "import numpy as np\n",
    "import pandas as pd\n",
    "from mtgsdk import Card\n",
    "from mtgsdk import Set\n",
    "from sklearn.feature_extraction.text import TfidfVectorizer\n",
    "from sklearn.model_selection import train_test_split\n",
    "from sklearn.naive_bayes import MultinomialNB"
   ]
  },
  {
   "cell_type": "markdown",
   "metadata": {},
   "source": [
    "# Collect Data"
   ]
  },
  {
   "cell_type": "code",
   "execution_count": 138,
   "metadata": {},
   "outputs": [],
   "source": [
    "def collect_magic_set(mtg_set_code=\"###\"):\n",
    "    cards = Card.where(set=mtg_set_code).all()\n",
    "    return cards\n",
    "\n",
    "def get_text(magic_set):\n",
    "    \"\"\"Uses Wizards API to build a dictionary of cards for one \"magic_set\": name, text, and colors\"\"\"\n",
    "    whole_set = []\n",
    "    for card in magic_set:\n",
    "        cards = {\n",
    "            'text' : card.text,\n",
    "            'colors' : card.colors,\n",
    "        }\n",
    "        \n",
    "        whole_set.append(cards)\n",
    "    return whole_set\n",
    "\n",
    "def get_df(mtg_set_alias):\n",
    "    magic_set = collect_magic_set(mtg_set_alias)\n",
    "    magic_set_json = get_text(magic_set)\n",
    "    magic_set_df = pd.DataFrame(magic_set_json)\n",
    "    return magic_set_df\n",
    "\n",
    "def prep_df(magic_set_df):\n",
    "    magic_set_df = magic_set_df.replace('\\n',' ', regex=True)\n",
    "    magic_set_df['colors'] = magic_set_df['colors'].apply(lambda x : str(x))\n",
    "    mask = magic_set_df.applymap(lambda x: x is None)\n",
    "    cols = magic_set_df.columns[(mask).any()]\n",
    "    magic_set_df = magic_set_df.replace('[]', \"['Colorless']\")\n",
    "    for col in magic_set_df[cols]:\n",
    "        magic_set_df.loc[mask[col], col] = ''\n",
    "    return magic_set_df"
   ]
  },
  {
   "cell_type": "markdown",
   "metadata": {},
   "source": [
    "# Load the data"
   ]
  },
  {
   "cell_type": "code",
   "execution_count": null,
   "metadata": {},
   "outputs": [],
   "source": [
    "# m10_df = get_df('m10')\n",
    "# m13_df = get_df('m13')\n",
    "# m15_df = get_df('m15')\n",
    "# m20_df = get_df('m20')"
   ]
  },
  {
   "cell_type": "markdown",
   "metadata": {},
   "source": [
    "# Clean data"
   ]
  },
  {
   "cell_type": "code",
   "execution_count": null,
   "metadata": {},
   "outputs": [],
   "source": [
    "prep_df(m10_df)\n",
    "prep_df(m13_df)\n",
    "prep_df(m15_df)\n",
    "prep_df(m20_df)"
   ]
  },
  {
   "cell_type": "code",
   "execution_count": 141,
   "metadata": {},
   "outputs": [],
   "source": [
    "four_mtg_df = pd.concat([m10_df, m13_df, m15_df, m20_df], ignore_index=True)"
   ]
  },
  {
   "cell_type": "code",
   "execution_count": 144,
   "metadata": {},
   "outputs": [
    {
     "data": {
      "text/plain": [
       "colors    1087\n",
       "text      1087\n",
       "dtype: int64"
      ]
     },
     "execution_count": 144,
     "metadata": {},
     "output_type": "execute_result"
    }
   ],
   "source": [
    "four_mtg_df.count()"
   ]
  },
  {
   "cell_type": "code",
   "execution_count": 143,
   "metadata": {},
   "outputs": [
    {
     "data": {
      "text/html": [
       "<div>\n",
       "<style scoped>\n",
       "    .dataframe tbody tr th:only-of-type {\n",
       "        vertical-align: middle;\n",
       "    }\n",
       "\n",
       "    .dataframe tbody tr th {\n",
       "        vertical-align: top;\n",
       "    }\n",
       "\n",
       "    .dataframe thead th {\n",
       "        text-align: right;\n",
       "    }\n",
       "</style>\n",
       "<table border=\"1\" class=\"dataframe\">\n",
       "  <thead>\n",
       "    <tr style=\"text-align: right;\">\n",
       "      <th></th>\n",
       "      <th>colors</th>\n",
       "      <th>text</th>\n",
       "    </tr>\n",
       "  </thead>\n",
       "  <tbody>\n",
       "    <tr>\n",
       "      <th>0</th>\n",
       "      <td>['Green']</td>\n",
       "      <td>Deathtouch (Any amount of damage this deals to...</td>\n",
       "    </tr>\n",
       "    <tr>\n",
       "      <th>1</th>\n",
       "      <td>['Black']</td>\n",
       "      <td>{1}{B}, {T}: Target player loses 1 life.</td>\n",
       "    </tr>\n",
       "    <tr>\n",
       "      <th>2</th>\n",
       "      <td>['Red']</td>\n",
       "      <td>Gain control of target creature until end of t...</td>\n",
       "    </tr>\n",
       "    <tr>\n",
       "      <th>3</th>\n",
       "      <td>['Blue']</td>\n",
       "      <td>Flying (This creature can't be blocked except ...</td>\n",
       "    </tr>\n",
       "    <tr>\n",
       "      <th>4</th>\n",
       "      <td>['White']</td>\n",
       "      <td>+1: You gain 2 life. −1: Put a +1/+1 counter o...</td>\n",
       "    </tr>\n",
       "    <tr>\n",
       "      <th>5</th>\n",
       "      <td>['Blue']</td>\n",
       "      <td>{T}: Target creature an opponent controls atta...</td>\n",
       "    </tr>\n",
       "    <tr>\n",
       "      <th>6</th>\n",
       "      <td>['Colorless']</td>\n",
       "      <td>Whenever a player casts a white spell, you may...</td>\n",
       "    </tr>\n",
       "    <tr>\n",
       "      <th>7</th>\n",
       "      <td>['White']</td>\n",
       "      <td>You gain 7 life.</td>\n",
       "    </tr>\n",
       "    <tr>\n",
       "      <th>8</th>\n",
       "      <td>['Green']</td>\n",
       "      <td>{1}{G}: Create a 1/1 green Insect creature token.</td>\n",
       "    </tr>\n",
       "    <tr>\n",
       "      <th>9</th>\n",
       "      <td>['White']</td>\n",
       "      <td>Enchant creature Enchanted creature gets +1/+1...</td>\n",
       "    </tr>\n",
       "    <tr>\n",
       "      <th>10</th>\n",
       "      <td>['Black']</td>\n",
       "      <td>Destroy target tapped creature.</td>\n",
       "    </tr>\n",
       "    <tr>\n",
       "      <th>11</th>\n",
       "      <td>['Green']</td>\n",
       "      <td>When Awakener Druid enters the battlefield, ta...</td>\n",
       "    </tr>\n",
       "    <tr>\n",
       "      <th>12</th>\n",
       "      <td>['Red']</td>\n",
       "      <td>Trample (This creature can deal excess combat ...</td>\n",
       "    </tr>\n",
       "    <tr>\n",
       "      <th>13</th>\n",
       "      <td>['White']</td>\n",
       "      <td>Flying, first strike, lifelink, protection fro...</td>\n",
       "    </tr>\n",
       "    <tr>\n",
       "      <th>14</th>\n",
       "      <td>['Red']</td>\n",
       "      <td>Berserkers of Blood Ridge attacks each combat ...</td>\n",
       "    </tr>\n",
       "    <tr>\n",
       "      <th>15</th>\n",
       "      <td>['Green']</td>\n",
       "      <td>Flying {T}: Add one mana of any color.</td>\n",
       "    </tr>\n",
       "    <tr>\n",
       "      <th>16</th>\n",
       "      <td>['Black']</td>\n",
       "      <td>First strike (This creature deals combat damag...</td>\n",
       "    </tr>\n",
       "    <tr>\n",
       "      <th>17</th>\n",
       "      <td>['White']</td>\n",
       "      <td>{W}, {T}: Tap target creature.</td>\n",
       "    </tr>\n",
       "    <tr>\n",
       "      <th>18</th>\n",
       "      <td>['Black']</td>\n",
       "      <td>Swampwalk (This creature can't be blocked as l...</td>\n",
       "    </tr>\n",
       "    <tr>\n",
       "      <th>19</th>\n",
       "      <td>['Red']</td>\n",
       "      <td>Flash Flying When Bogardan Hellkite enters the...</td>\n",
       "    </tr>\n",
       "    <tr>\n",
       "      <th>20</th>\n",
       "      <td>['Green']</td>\n",
       "      <td>When Borderland Ranger enters the battlefield,...</td>\n",
       "    </tr>\n",
       "    <tr>\n",
       "      <th>21</th>\n",
       "      <td>['Green']</td>\n",
       "      <td>You gain 1 life for each land you control.</td>\n",
       "    </tr>\n",
       "    <tr>\n",
       "      <th>22</th>\n",
       "      <td>['Green']</td>\n",
       "      <td>Whenever Bramble Creeper attacks, it gets +5/+...</td>\n",
       "    </tr>\n",
       "    <tr>\n",
       "      <th>23</th>\n",
       "      <td>['Red']</td>\n",
       "      <td>Each player draws three cards, then discards t...</td>\n",
       "    </tr>\n",
       "    <tr>\n",
       "      <th>24</th>\n",
       "      <td>['Red']</td>\n",
       "      <td>Creatures you control gain haste until end of ...</td>\n",
       "    </tr>\n",
       "    <tr>\n",
       "      <th>25</th>\n",
       "      <td>['Blue']</td>\n",
       "      <td>Counter target spell.</td>\n",
       "    </tr>\n",
       "    <tr>\n",
       "      <th>26</th>\n",
       "      <td>['Red']</td>\n",
       "      <td></td>\n",
       "    </tr>\n",
       "    <tr>\n",
       "      <th>27</th>\n",
       "      <td>['Red']</td>\n",
       "      <td>At the beginning of your upkeep, choose target...</td>\n",
       "    </tr>\n",
       "    <tr>\n",
       "      <th>28</th>\n",
       "      <td>['White']</td>\n",
       "      <td>Vigilance (Attacking doesn't cause this creatu...</td>\n",
       "    </tr>\n",
       "    <tr>\n",
       "      <th>29</th>\n",
       "      <td>['White']</td>\n",
       "      <td>Exile target black or red permanent.</td>\n",
       "    </tr>\n",
       "    <tr>\n",
       "      <th>...</th>\n",
       "      <td>...</td>\n",
       "      <td>...</td>\n",
       "    </tr>\n",
       "    <tr>\n",
       "      <th>1057</th>\n",
       "      <td>[Red]</td>\n",
       "      <td>Target creature gets +1/+1 and gains double st...</td>\n",
       "    </tr>\n",
       "    <tr>\n",
       "      <th>1058</th>\n",
       "      <td>[Red]</td>\n",
       "      <td>Protection from white (This creature can't be ...</td>\n",
       "    </tr>\n",
       "    <tr>\n",
       "      <th>1059</th>\n",
       "      <td>[Black]</td>\n",
       "      <td>When Undead Servant enters the battlefield, cr...</td>\n",
       "    </tr>\n",
       "    <tr>\n",
       "      <th>1060</th>\n",
       "      <td>[Black]</td>\n",
       "      <td>Enchant creature\\nWhen enchanted creature dies...</td>\n",
       "    </tr>\n",
       "    <tr>\n",
       "      <th>1061</th>\n",
       "      <td>[Blue]</td>\n",
       "      <td>Return target creature to its owner's hand.</td>\n",
       "    </tr>\n",
       "    <tr>\n",
       "      <th>1062</th>\n",
       "      <td>[Black]</td>\n",
       "      <td>Deathtouch (Any amount of damage this deals to...</td>\n",
       "    </tr>\n",
       "    <tr>\n",
       "      <th>1063</th>\n",
       "      <td>[Green]</td>\n",
       "      <td>Draw a card if an opponent has cast a blue or ...</td>\n",
       "    </tr>\n",
       "    <tr>\n",
       "      <th>1064</th>\n",
       "      <td>[Black]</td>\n",
       "      <td>Whenever you lose life for the first time each...</td>\n",
       "    </tr>\n",
       "    <tr>\n",
       "      <th>1065</th>\n",
       "      <td>[]</td>\n",
       "      <td>{2}, {T}, Sacrifice Vial of Dragonfire: It dea...</td>\n",
       "    </tr>\n",
       "    <tr>\n",
       "      <th>1066</th>\n",
       "      <td>[Black]</td>\n",
       "      <td>Flying\\n{B}, Pay 2 life: Target creature gets ...</td>\n",
       "    </tr>\n",
       "    <tr>\n",
       "      <th>1067</th>\n",
       "      <td>[Green]</td>\n",
       "      <td>Vivien's Crocodile gets +1/+1 as long as you c...</td>\n",
       "    </tr>\n",
       "    <tr>\n",
       "      <th>1068</th>\n",
       "      <td>[Green]</td>\n",
       "      <td>+1: Distribute two +1/+1 counters among up to ...</td>\n",
       "    </tr>\n",
       "    <tr>\n",
       "      <th>1069</th>\n",
       "      <td>[Green]</td>\n",
       "      <td>+1: Put three +1/+1 counters on up to one targ...</td>\n",
       "    </tr>\n",
       "    <tr>\n",
       "      <th>1070</th>\n",
       "      <td>[Green]</td>\n",
       "      <td>Trample\\nVoracious Hydra enters the battlefiel...</td>\n",
       "    </tr>\n",
       "    <tr>\n",
       "      <th>1071</th>\n",
       "      <td>[Green]</td>\n",
       "      <td></td>\n",
       "    </tr>\n",
       "    <tr>\n",
       "      <th>1072</th>\n",
       "      <td>[Green]</td>\n",
       "      <td>{G}{G}{G}{G}{G}: Untap target land you control...</td>\n",
       "    </tr>\n",
       "    <tr>\n",
       "      <th>1073</th>\n",
       "      <td>[Blue]</td>\n",
       "      <td>Flying\\nCreature spells with flying you cast c...</td>\n",
       "    </tr>\n",
       "    <tr>\n",
       "      <th>1074</th>\n",
       "      <td>[Blue]</td>\n",
       "      <td>Whenever a creature with flying enters the bat...</td>\n",
       "    </tr>\n",
       "    <tr>\n",
       "      <th>1075</th>\n",
       "      <td>[Red]</td>\n",
       "      <td>Whenever an opponent is dealt noncombat damage...</td>\n",
       "    </tr>\n",
       "    <tr>\n",
       "      <th>1076</th>\n",
       "      <td>[]</td>\n",
       "      <td>Wind-Scarred Crag enters the battlefield tappe...</td>\n",
       "    </tr>\n",
       "    <tr>\n",
       "      <th>1077</th>\n",
       "      <td>[Blue]</td>\n",
       "      <td>This spell costs {1} less to cast if you contr...</td>\n",
       "    </tr>\n",
       "    <tr>\n",
       "      <th>1078</th>\n",
       "      <td>[Green]</td>\n",
       "      <td>Enchant creature\\nWhen Wolfkin Bond enters the...</td>\n",
       "    </tr>\n",
       "    <tr>\n",
       "      <th>1079</th>\n",
       "      <td>[Green]</td>\n",
       "      <td>When Wolfrider's Saddle enters the battlefield...</td>\n",
       "    </tr>\n",
       "    <tr>\n",
       "      <th>1080</th>\n",
       "      <td>[Green]</td>\n",
       "      <td>Whenever one or more tokens enter the battlefi...</td>\n",
       "    </tr>\n",
       "    <tr>\n",
       "      <th>1081</th>\n",
       "      <td>[Blue]</td>\n",
       "      <td>Flying\\nWhen Yanling's Harbinger enters the ba...</td>\n",
       "    </tr>\n",
       "    <tr>\n",
       "      <th>1082</th>\n",
       "      <td>[Black]</td>\n",
       "      <td>When Yarok's Fenlurker enters the battlefield,...</td>\n",
       "    </tr>\n",
       "    <tr>\n",
       "      <th>1083</th>\n",
       "      <td>[Blue]</td>\n",
       "      <td>When Yarok's Wavecrasher enters the battlefiel...</td>\n",
       "    </tr>\n",
       "    <tr>\n",
       "      <th>1084</th>\n",
       "      <td>[Black, Green, Blue]</td>\n",
       "      <td>Deathtouch, lifelink\\nIf a permanent entering ...</td>\n",
       "    </tr>\n",
       "    <tr>\n",
       "      <th>1085</th>\n",
       "      <td>[White]</td>\n",
       "      <td></td>\n",
       "    </tr>\n",
       "    <tr>\n",
       "      <th>1086</th>\n",
       "      <td>[Blue]</td>\n",
       "      <td>{1}{U}: Target creature gains flying until end...</td>\n",
       "    </tr>\n",
       "  </tbody>\n",
       "</table>\n",
       "<p>1087 rows × 2 columns</p>\n",
       "</div>"
      ],
      "text/plain": [
       "                    colors                                               text\n",
       "0                ['Green']  Deathtouch (Any amount of damage this deals to...\n",
       "1                ['Black']           {1}{B}, {T}: Target player loses 1 life.\n",
       "2                  ['Red']  Gain control of target creature until end of t...\n",
       "3                 ['Blue']  Flying (This creature can't be blocked except ...\n",
       "4                ['White']  +1: You gain 2 life. −1: Put a +1/+1 counter o...\n",
       "5                 ['Blue']  {T}: Target creature an opponent controls atta...\n",
       "6            ['Colorless']  Whenever a player casts a white spell, you may...\n",
       "7                ['White']                                   You gain 7 life.\n",
       "8                ['Green']  {1}{G}: Create a 1/1 green Insect creature token.\n",
       "9                ['White']  Enchant creature Enchanted creature gets +1/+1...\n",
       "10               ['Black']                    Destroy target tapped creature.\n",
       "11               ['Green']  When Awakener Druid enters the battlefield, ta...\n",
       "12                 ['Red']  Trample (This creature can deal excess combat ...\n",
       "13               ['White']  Flying, first strike, lifelink, protection fro...\n",
       "14                 ['Red']  Berserkers of Blood Ridge attacks each combat ...\n",
       "15               ['Green']             Flying {T}: Add one mana of any color.\n",
       "16               ['Black']  First strike (This creature deals combat damag...\n",
       "17               ['White']                     {W}, {T}: Tap target creature.\n",
       "18               ['Black']  Swampwalk (This creature can't be blocked as l...\n",
       "19                 ['Red']  Flash Flying When Bogardan Hellkite enters the...\n",
       "20               ['Green']  When Borderland Ranger enters the battlefield,...\n",
       "21               ['Green']         You gain 1 life for each land you control.\n",
       "22               ['Green']  Whenever Bramble Creeper attacks, it gets +5/+...\n",
       "23                 ['Red']  Each player draws three cards, then discards t...\n",
       "24                 ['Red']  Creatures you control gain haste until end of ...\n",
       "25                ['Blue']                              Counter target spell.\n",
       "26                 ['Red']                                                   \n",
       "27                 ['Red']  At the beginning of your upkeep, choose target...\n",
       "28               ['White']  Vigilance (Attacking doesn't cause this creatu...\n",
       "29               ['White']               Exile target black or red permanent.\n",
       "...                    ...                                                ...\n",
       "1057                 [Red]  Target creature gets +1/+1 and gains double st...\n",
       "1058                 [Red]  Protection from white (This creature can't be ...\n",
       "1059               [Black]  When Undead Servant enters the battlefield, cr...\n",
       "1060               [Black]  Enchant creature\\nWhen enchanted creature dies...\n",
       "1061                [Blue]        Return target creature to its owner's hand.\n",
       "1062               [Black]  Deathtouch (Any amount of damage this deals to...\n",
       "1063               [Green]  Draw a card if an opponent has cast a blue or ...\n",
       "1064               [Black]  Whenever you lose life for the first time each...\n",
       "1065                    []  {2}, {T}, Sacrifice Vial of Dragonfire: It dea...\n",
       "1066               [Black]  Flying\\n{B}, Pay 2 life: Target creature gets ...\n",
       "1067               [Green]  Vivien's Crocodile gets +1/+1 as long as you c...\n",
       "1068               [Green]  +1: Distribute two +1/+1 counters among up to ...\n",
       "1069               [Green]  +1: Put three +1/+1 counters on up to one targ...\n",
       "1070               [Green]  Trample\\nVoracious Hydra enters the battlefiel...\n",
       "1071               [Green]                                                   \n",
       "1072               [Green]  {G}{G}{G}{G}{G}: Untap target land you control...\n",
       "1073                [Blue]  Flying\\nCreature spells with flying you cast c...\n",
       "1074                [Blue]  Whenever a creature with flying enters the bat...\n",
       "1075                 [Red]  Whenever an opponent is dealt noncombat damage...\n",
       "1076                    []  Wind-Scarred Crag enters the battlefield tappe...\n",
       "1077                [Blue]  This spell costs {1} less to cast if you contr...\n",
       "1078               [Green]  Enchant creature\\nWhen Wolfkin Bond enters the...\n",
       "1079               [Green]  When Wolfrider's Saddle enters the battlefield...\n",
       "1080               [Green]  Whenever one or more tokens enter the battlefi...\n",
       "1081                [Blue]  Flying\\nWhen Yanling's Harbinger enters the ba...\n",
       "1082               [Black]  When Yarok's Fenlurker enters the battlefield,...\n",
       "1083                [Blue]  When Yarok's Wavecrasher enters the battlefiel...\n",
       "1084  [Black, Green, Blue]  Deathtouch, lifelink\\nIf a permanent entering ...\n",
       "1085               [White]                                                   \n",
       "1086                [Blue]  {1}{U}: Target creature gains flying until end...\n",
       "\n",
       "[1087 rows x 2 columns]"
      ]
     },
     "execution_count": 143,
     "metadata": {},
     "output_type": "execute_result"
    }
   ],
   "source": [
    "# replace None's with empty strings for Vectorizing purposes\n",
    "mask = four_mtg_df.applymap(lambda x: x is None)\n",
    "cols = four_mtg_df.columns[(mask).any()]\n",
    "for col in four_mtg_df[cols]:\n",
    "    four_mtg_df.loc[mask[col], col] = ''\n",
    "four_mtg_df"
   ]
  },
  {
   "cell_type": "code",
   "execution_count": null,
   "metadata": {},
   "outputs": [],
   "source": [
    "prep_df(four_mtg_df)"
   ]
  },
  {
   "cell_type": "code",
   "execution_count": 178,
   "metadata": {},
   "outputs": [],
   "source": [
    "four_mtg_df = four_mtg_df.replace('[]', \"['Colorless']\")"
   ]
  },
  {
   "cell_type": "code",
   "execution_count": 163,
   "metadata": {},
   "outputs": [],
   "source": [
    "four_mtg_df['colors'] = four_mtg_df['colors'].apply(lambda x : str(x))"
   ]
  },
  {
   "cell_type": "code",
   "execution_count": 179,
   "metadata": {},
   "outputs": [],
   "source": [
    "X_train, X_test, y_train, y_test = train_test_split(four_mtg_df[['text']], \n",
    "                                                    four_mtg_df['colors'],\n",
    "                                                    test_size=0.2, \n",
    "                                                    random_state=2019)"
   ]
  },
  {
   "cell_type": "code",
   "execution_count": 180,
   "metadata": {},
   "outputs": [],
   "source": [
    "# Tfidf Vectorizing\n",
    "v = TfidfVectorizer()\n",
    "x_train_tfidf = v.fit_transform(X_train['text'])"
   ]
  },
  {
   "cell_type": "code",
   "execution_count": 181,
   "metadata": {},
   "outputs": [
    {
     "data": {
      "text/plain": [
       "<869x1008 sparse matrix of type '<class 'numpy.float64'>'\n",
       "\twith 12596 stored elements in Compressed Sparse Row format>"
      ]
     },
     "execution_count": 181,
     "metadata": {},
     "output_type": "execute_result"
    }
   ],
   "source": [
    "x_train_tfidf"
   ]
  },
  {
   "cell_type": "code",
   "execution_count": 182,
   "metadata": {},
   "outputs": [],
   "source": [
    "multnb = MultinomialNB()"
   ]
  },
  {
   "cell_type": "code",
   "execution_count": 183,
   "metadata": {},
   "outputs": [
    {
     "data": {
      "text/plain": [
       "MultinomialNB(alpha=1.0, class_prior=None, fit_prior=True)"
      ]
     },
     "execution_count": 183,
     "metadata": {},
     "output_type": "execute_result"
    }
   ],
   "source": [
    "multnb.fit(x_train_tfidf, y_train)"
   ]
  },
  {
   "cell_type": "code",
   "execution_count": 184,
   "metadata": {},
   "outputs": [],
   "source": [
    "x_test_tfidf = v.transform(X_test['text'])"
   ]
  },
  {
   "cell_type": "code",
   "execution_count": 185,
   "metadata": {},
   "outputs": [
    {
     "data": {
      "text/plain": [
       "0.6467889908256881"
      ]
     },
     "execution_count": 185,
     "metadata": {},
     "output_type": "execute_result"
    }
   ],
   "source": [
    "multnb.score(x_test_tfidf, y_test)"
   ]
  },
  {
   "cell_type": "code",
   "execution_count": 186,
   "metadata": {},
   "outputs": [
    {
     "data": {
      "text/plain": [
       "['Colorless']                                 212\n",
       "['White']                                     173\n",
       "['Red']                                       172\n",
       "['Green']                                     171\n",
       "['Black']                                     170\n",
       "['Blue']                                      170\n",
       "['Black', 'Green']                              2\n",
       "['Black', 'White']                              1\n",
       "['Black', 'Green', 'Red', 'Blue', 'White']      1\n",
       "['Red', 'White']                                1\n",
       "['Red', 'Blue', 'White']                        1\n",
       "['Red', 'Blue']                                 1\n",
       "['Black', 'Green', 'White']                     1\n",
       "['Green', 'Red']                                1\n",
       "['Green', 'Red', 'Blue']                        1\n",
       "['Black', 'Blue']                               1\n",
       "['Black', 'Red', 'Blue']                        1\n",
       "['Green', 'Red', 'White']                       1\n",
       "['Blue', 'White']                               1\n",
       "['Black', 'Red', 'White']                       1\n",
       "['Black', 'Red']                                1\n",
       "['Green', 'Blue']                               1\n",
       "['Green', 'White']                              1\n",
       "['Black', 'Green', 'Blue']                      1\n",
       "Name: colors, dtype: int64"
      ]
     },
     "execution_count": 186,
     "metadata": {},
     "output_type": "execute_result"
    }
   ],
   "source": [
    "four_mtg_df['colors'].value_counts()"
   ]
  },
  {
   "cell_type": "code",
   "execution_count": 187,
   "metadata": {},
   "outputs": [
    {
     "data": {
      "text/plain": [
       "array([[1.84176954e-04, 1.76633051e-04, 1.76824606e-04, ...,\n",
       "        1.76815102e-04, 1.31673983e-01, 4.01024366e-02],\n",
       "       [3.97289319e-04, 3.98153462e-04, 3.98428353e-04, ...,\n",
       "        4.33800514e-04, 7.97694788e-02, 4.92636587e-01],\n",
       "       [1.08333455e-04, 1.08504731e-04, 1.08559194e-04, ...,\n",
       "        1.08556492e-04, 1.32920119e-02, 1.04235444e-02],\n",
       "       ...,\n",
       "       [3.70745715e-05, 3.60382657e-05, 3.71237455e-05, ...,\n",
       "        3.54844840e-05, 3.54751644e-02, 4.08395230e-02],\n",
       "       [4.10868232e-05, 3.85260618e-05, 3.71482285e-05, ...,\n",
       "        3.70553874e-05, 4.62917259e-02, 7.63064118e-02],\n",
       "       [7.31462126e-05, 7.38673249e-05, 7.38455333e-05, ...,\n",
       "        6.87932314e-05, 1.36870720e-01, 3.92547274e-01]])"
      ]
     },
     "execution_count": 187,
     "metadata": {},
     "output_type": "execute_result"
    }
   ],
   "source": [
    "multnb.predict_proba(x_test_tfidf)"
   ]
  },
  {
   "cell_type": "code",
   "execution_count": 188,
   "metadata": {},
   "outputs": [
    {
     "data": {
      "text/plain": [
       "[(\"['White']\", 0.3213146920771804),\n",
       " (\"['Black']\", 0.24992278503485302),\n",
       " (\"['Green']\", 0.2302328426147117),\n",
       " (\"['Colorless']\", 0.10275341445136389),\n",
       " (\"['Red']\", 0.06006549904694787),\n",
       " (\"['Blue']\", 0.03531779280019581),\n",
       " (\"['Black', 'Green']\", 6.796466542858956e-05),\n",
       " (\"['Blue', 'White']\", 2.3719502908318076e-05),\n",
       " (\"['Green', 'Red']\", 2.180868495513814e-05),\n",
       " (\"['Black', 'White']\", 2.1706628228930664e-05),\n",
       " (\"['Black', 'Red']\", 2.090636797263622e-05),\n",
       " (\"['Red', 'Blue', 'White']\", 2.0753326833903623e-05),\n",
       " (\"['Black', 'Green', 'Red', 'Blue', 'White']\", 2.0722180166699098e-05),\n",
       " (\"['Black', 'Blue']\", 2.0337811307122746e-05),\n",
       " (\"['Red', 'White']\", 2.0269926087928496e-05),\n",
       " (\"['Green', 'Red', 'White']\", 2.0089363596075035e-05),\n",
       " (\"['Black', 'Red', 'Blue']\", 2.0071445198142584e-05),\n",
       " (\"['Green', 'Red', 'Blue']\", 2.0037499513885846e-05),\n",
       " (\"['Red', 'Blue']\", 1.953306165313641e-05),\n",
       " (\"['Green', 'Blue']\", 1.913244810332885e-05),\n",
       " (\"['Green', 'White']\", 1.9127160694905074e-05),\n",
       " (\"['Black', 'Green', 'White']\", 1.8586994331247854e-05),\n",
       " (\"['Black', 'Green', 'Blue']\", 1.820690776909849e-05)]"
      ]
     },
     "execution_count": 188,
     "metadata": {},
     "output_type": "execute_result"
    }
   ],
   "source": [
    "sorted(list(zip(multnb.classes_,multnb.predict_proba(x_test_tfidf)[6])),\n",
    "       key=lambda x : x[1], \n",
    "       reverse=True)"
   ]
  },
  {
   "cell_type": "code",
   "execution_count": 191,
   "metadata": {},
   "outputs": [],
   "source": [
    "from sklearn.ensemble import RandomForestClassifier, AdaBoostClassifier"
   ]
  },
  {
   "cell_type": "code",
   "execution_count": 192,
   "metadata": {},
   "outputs": [],
   "source": [
    "rfc = RandomForestClassifier()\n",
    "abc = AdaBoostClassifier()\n"
   ]
  },
  {
   "cell_type": "code",
   "execution_count": 193,
   "metadata": {},
   "outputs": [
    {
     "name": "stderr",
     "output_type": "stream",
     "text": [
      "/anaconda3/lib/python3.7/site-packages/sklearn/ensemble/forest.py:246: FutureWarning: The default value of n_estimators will change from 10 in version 0.20 to 100 in 0.22.\n",
      "  \"10 in version 0.20 to 100 in 0.22.\", FutureWarning)\n"
     ]
    },
    {
     "data": {
      "text/plain": [
       "RandomForestClassifier(bootstrap=True, class_weight=None, criterion='gini',\n",
       "            max_depth=None, max_features='auto', max_leaf_nodes=None,\n",
       "            min_impurity_decrease=0.0, min_impurity_split=None,\n",
       "            min_samples_leaf=1, min_samples_split=2,\n",
       "            min_weight_fraction_leaf=0.0, n_estimators=10, n_jobs=None,\n",
       "            oob_score=False, random_state=None, verbose=0,\n",
       "            warm_start=False)"
      ]
     },
     "execution_count": 193,
     "metadata": {},
     "output_type": "execute_result"
    }
   ],
   "source": [
    "rfc.fit(x_train_tfidf, y_train)"
   ]
  },
  {
   "cell_type": "code",
   "execution_count": 194,
   "metadata": {},
   "outputs": [
    {
     "data": {
      "text/plain": [
       "AdaBoostClassifier(algorithm='SAMME.R', base_estimator=None,\n",
       "          learning_rate=1.0, n_estimators=50, random_state=None)"
      ]
     },
     "execution_count": 194,
     "metadata": {},
     "output_type": "execute_result"
    }
   ],
   "source": [
    "abc.fit(x_train_tfidf, y_train)"
   ]
  },
  {
   "cell_type": "code",
   "execution_count": 198,
   "metadata": {},
   "outputs": [
    {
     "data": {
      "text/plain": [
       "0.5642201834862385"
      ]
     },
     "execution_count": 198,
     "metadata": {},
     "output_type": "execute_result"
    }
   ],
   "source": [
    "rfc.score(x_test_tfidf, y_test)"
   ]
  },
  {
   "cell_type": "code",
   "execution_count": 197,
   "metadata": {},
   "outputs": [
    {
     "data": {
      "text/plain": [
       "0.2706422018348624"
      ]
     },
     "execution_count": 197,
     "metadata": {},
     "output_type": "execute_result"
    }
   ],
   "source": [
    "abc.score(x_test_tfidf, y_test)"
   ]
  },
  {
   "cell_type": "code",
   "execution_count": 202,
   "metadata": {},
   "outputs": [],
   "source": [
    "import pickle as pkl"
   ]
  },
  {
   "cell_type": "code",
   "execution_count": 205,
   "metadata": {},
   "outputs": [],
   "source": [
    "four_mtg_df.to_pickle('four_mtg_df')"
   ]
  },
  {
   "cell_type": "code",
   "execution_count": null,
   "metadata": {},
   "outputs": [],
   "source": []
  }
 ],
 "metadata": {
  "kernelspec": {
   "display_name": "Python 3",
   "language": "python",
   "name": "python3"
  },
  "language_info": {
   "codemirror_mode": {
    "name": "ipython",
    "version": 3
   },
   "file_extension": ".py",
   "mimetype": "text/x-python",
   "name": "python",
   "nbconvert_exporter": "python",
   "pygments_lexer": "ipython3",
   "version": "3.7.3"
  }
 },
 "nbformat": 4,
 "nbformat_minor": 2
}
