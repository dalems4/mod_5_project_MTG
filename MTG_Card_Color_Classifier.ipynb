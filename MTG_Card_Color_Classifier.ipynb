{
 "cells": [
  {
   "cell_type": "markdown",
   "metadata": {},
   "source": [
    "## Predict what color a card is based on it's text in Magic the Gathering"
   ]
  },
  {
   "cell_type": "markdown",
   "metadata": {},
   "source": [
    "# Install Wizards of the Coast's API wrapper for python"
   ]
  },
  {
   "cell_type": "code",
   "execution_count": null,
   "metadata": {},
   "outputs": [],
   "source": [
    "!pip install mtgsdk"
   ]
  },
  {
   "cell_type": "markdown",
   "metadata": {},
   "source": [
    "# Import nessesary tools"
   ]
  },
  {
   "cell_type": "code",
   "execution_count": null,
   "metadata": {},
   "outputs": [],
   "source": [
    "import numpy as np\n",
    "import pandas as pd\n",
    "from mtgsdk import Card\n",
    "from sklearn.feature_extraction.text import TfidfVectorizer\n",
    "from sklearn.model_selection import train_test_split\n",
    "from sklearn.naive_bayes import MultinomialNB\n",
    "import matplotlib.pyplot as plt\n",
    "import pickle as pkl"
   ]
  },
  {
   "cell_type": "markdown",
   "metadata": {},
   "source": [
    "# Collect Data"
   ]
  },
  {
   "cell_type": "code",
   "execution_count": null,
   "metadata": {},
   "outputs": [],
   "source": [
    "def collect_magic_set(mtg_set_code=\"###\"):\n",
    "    cards = Card.where(set=mtg_set_code).all()\n",
    "    return cards\n",
    "\n",
    "def get_just_text(magic_set):\n",
    "    \"\"\"Uses Wizards API to build a dictionary of cards for one \"magic_set\": name, text, and colors\"\"\"\n",
    "    whole_set = []\n",
    "    for card in magic_set:\n",
    "        cards = {\n",
    "            'text' : card.text,\n",
    "            'colors' : card.colors,\n",
    "        }\n",
    "        \n",
    "        whole_set.append(cards)\n",
    "    return whole_set\n",
    "\n",
    "\n",
    "def get_df(mtg_set_alias):\n",
    "    magic_set = collect_magic_set(mtg_set_alias)\n",
    "    magic_set_json = get_just_text(magic_set)\n",
    "    magic_set_df = pd.DataFrame(magic_set_json)\n",
    "    return magic_set_df\n",
    "\n",
    "def prep_df(magic_set_df):\n",
    "    magic_set_df = magic_set_df.replace('\\n',' ', regex=True)\n",
    "    magic_set_df['colors'] = magic_set_df['colors'].apply(lambda x : str(x))\n",
    "    mask = magic_set_df.applymap(lambda x: x is None)\n",
    "    cols = magic_set_df.columns[(mask).any()]\n",
    "    magic_set_df = magic_set_df.replace('[]', \"['Colorless']\")\n",
    "    for col in magic_set_df[cols]:\n",
    "        magic_set_df.loc[mask[col], col] = ''\n",
    "    return magic_set_df"
   ]
  },
  {
   "cell_type": "markdown",
   "metadata": {},
   "source": [
    "# Load the data"
   ]
  },
  {
   "cell_type": "code",
   "execution_count": null,
   "metadata": {},
   "outputs": [],
   "source": [
    "m10_df = get_df('m10')\n",
    "m13_df = get_df('m13')\n",
    "m15_df = get_df('m15')\n",
    "m20_df = get_df('m20')"
   ]
  },
  {
   "cell_type": "markdown",
   "metadata": {},
   "source": [
    "# Clean data"
   ]
  },
  {
   "cell_type": "code",
   "execution_count": null,
   "metadata": {
    "scrolled": true
   },
   "outputs": [],
   "source": [
    "prep_df(m10_df)\n",
    "prep_df(m13_df)\n",
    "prep_df(m15_df)\n",
    "prep_df(m20_df)"
   ]
  },
  {
   "cell_type": "code",
   "execution_count": null,
   "metadata": {},
   "outputs": [],
   "source": [
    "four_mtg_df = pd.concat([m10_df, m13_df, m15_df, m20_df], ignore_index=True)\n"
   ]
  },
  {
   "cell_type": "code",
   "execution_count": null,
   "metadata": {},
   "outputs": [],
   "source": [
    "four_mtg_df.count()"
   ]
  },
  {
   "cell_type": "code",
   "execution_count": null,
   "metadata": {
    "scrolled": true
   },
   "outputs": [],
   "source": [
    "# replace None's with empty strings for Vectorizing purposes\n",
    "mask = four_mtg_df.applymap(lambda x: x is None)\n",
    "cols = four_mtg_df.columns[(mask).any()]\n",
    "for col in four_mtg_df[cols]:\n",
    "    four_mtg_df.loc[mask[col], col] = ''\n",
    "four_mtg_df"
   ]
  },
  {
   "cell_type": "code",
   "execution_count": null,
   "metadata": {
    "scrolled": true
   },
   "outputs": [],
   "source": [
    "prep_df(four_mtg_df)\n"
   ]
  },
  {
   "cell_type": "code",
   "execution_count": null,
   "metadata": {
    "scrolled": true
   },
   "outputs": [],
   "source": [
    "four_mtg_df['colors'] = four_mtg_df['colors'].apply(lambda x : str(x))\n"
   ]
  },
  {
   "cell_type": "code",
   "execution_count": null,
   "metadata": {},
   "outputs": [],
   "source": [
    "four_mtg_df = four_mtg_df.replace('[]', \"['Colorless']\")\n"
   ]
  },
  {
   "cell_type": "code",
   "execution_count": null,
   "metadata": {},
   "outputs": [],
   "source": [
    "to_drop =  [\"['Black', 'Red', 'Blue']\", \n",
    "            \"['Black', 'Green']\",\n",
    "            \"['Black', 'Green', 'Red', 'Blue', 'White']\", \n",
    "            \"['Black', 'White']\",\n",
    "            \"['Green', 'Red']\", \n",
    "            \"['Blue', 'White']\", \n",
    "            \"['Green', 'White']\",\n",
    "            \"['Black', 'Red', 'White']\", \n",
    "            \"['Black', 'Green', 'White']\",\n",
    "            \"['Red', 'Blue', 'White']\", \n",
    "            \"['Red', 'Blue']\", \n",
    "            \"['Black', 'Red']\",\n",
    "            \"['Green', 'Red', 'Blue']\", \n",
    "            \"['Green', 'Red', 'White']\",\n",
    "            \"['Green', 'Blue']\", \n",
    "            \"['Red', 'White']\", \n",
    "            \"['Black', 'Blue']\",\n",
    "            \"['Black', 'Green', 'Blue']\"]"
   ]
  },
  {
   "cell_type": "code",
   "execution_count": null,
   "metadata": {},
   "outputs": [],
   "source": [
    "four_mtg_df = four_mtg_df[~four_mtg_df['colors'].isin(to_drop)]"
   ]
  },
  {
   "cell_type": "code",
   "execution_count": null,
   "metadata": {},
   "outputs": [],
   "source": [
    "idf = v.idf_\n",
    "feat_weight_dict = dict(zip(v.get_feature_names(), idf))\n",
    "\n",
    "feat_weights = []\n",
    "feats = []\n",
    "for key in feat_weight_dict:\n",
    "    feat_weights.append(feat_weight_dict[key])\n",
    "    feats.append(key)\n",
    "\n",
    "feat_weight_df = pd.DataFrame(feats, feat_weights)\n",
    "\n",
    "feat_weight_df.reset_index(inplace=True)\n",
    "\n",
    "feat_weight_df['weight'] = feat_weight_df['index']\n",
    "\n",
    "feat_weight_df.drop('index', axis=1, inplace=True)\n",
    "\n",
    "\n",
    "feat_weight_df['feature'] = feat_weight_df[0]\n",
    "\n",
    "feat_weight_df.drop(0, axis=1,inplace=True)"
   ]
  },
  {
   "cell_type": "markdown",
   "metadata": {},
   "source": [
    "# Train Test Split"
   ]
  },
  {
   "cell_type": "code",
   "execution_count": null,
   "metadata": {},
   "outputs": [],
   "source": [
    "X_train, X_test, y_train, y_test = train_test_split(four_mtg_df[['text']], \n",
    "                                                    four_mtg_df['colors'],\n",
    "                                                    test_size=0.2, \n",
    "                                                    random_state=2019)\n"
   ]
  },
  {
   "cell_type": "markdown",
   "metadata": {},
   "source": [
    "# Tfidf Vectorization in order to model the data"
   ]
  },
  {
   "cell_type": "code",
   "execution_count": null,
   "metadata": {},
   "outputs": [],
   "source": [
    "v = TfidfVectorizer()\n",
    "\n",
    "x_train_tfidf = v.fit_transform(X_train['text'])"
   ]
  },
  {
   "cell_type": "markdown",
   "metadata": {},
   "source": [
    "# First Models with Multi-nomial Naive Bayes"
   ]
  },
  {
   "cell_type": "code",
   "execution_count": null,
   "metadata": {},
   "outputs": [],
   "source": [
    "multnb = MultinomialNB()"
   ]
  },
  {
   "cell_type": "code",
   "execution_count": null,
   "metadata": {},
   "outputs": [],
   "source": [
    "x_train_tfidf = v.transform(X_train['text'])"
   ]
  },
  {
   "cell_type": "code",
   "execution_count": null,
   "metadata": {},
   "outputs": [],
   "source": [
    "multnb.fit(x_train_tfidf, y_train)"
   ]
  },
  {
   "cell_type": "code",
   "execution_count": null,
   "metadata": {},
   "outputs": [],
   "source": [
    "x_test_tfidf = v.transform(X_test['text'])"
   ]
  },
  {
   "cell_type": "code",
   "execution_count": null,
   "metadata": {},
   "outputs": [],
   "source": [
    "multnb.score(x_test_tfidf, y_test)"
   ]
  },
  {
   "cell_type": "code",
   "execution_count": null,
   "metadata": {},
   "outputs": [],
   "source": [
    "len(v.get_feature_names())"
   ]
  },
  {
   "cell_type": "code",
   "execution_count": null,
   "metadata": {},
   "outputs": [],
   "source": []
  },
  {
   "cell_type": "markdown",
   "metadata": {},
   "source": [
    "# Testing Cells"
   ]
  },
  {
   "cell_type": "code",
   "execution_count": null,
   "metadata": {
    "scrolled": true
   },
   "outputs": [],
   "source": [
    "color_sureness = []\n",
    "for x in range(0,len(multnb.predict_proba(x_test_tfidf))):\n",
    "    color_sureness.append(sorted(list(zip(multnb.classes_,multnb.predict_proba(x_test_tfidf)[x])),\n",
    "       key=lambda x : x[0], \n",
    "       reverse=True))\n",
    "color_sureness"
   ]
  },
  {
   "cell_type": "code",
   "execution_count": null,
   "metadata": {},
   "outputs": [],
   "source": [
    "data = []\n",
    "\n",
    "for i, val in enumerate(color_sureness[:]):\n",
    "    for color, sureness in val:\n",
    "        card = {}\n",
    "        card['card'] = i\n",
    "        card['color'] = color\n",
    "        card['sureness'] = sureness\n",
    "        data.append(card)\n"
   ]
  },
  {
   "cell_type": "code",
   "execution_count": null,
   "metadata": {},
   "outputs": [],
   "source": [
    "data_df = pd.DataFrame(data)"
   ]
  },
  {
   "cell_type": "code",
   "execution_count": null,
   "metadata": {},
   "outputs": [],
   "source": [
    "data_df.drop('card', axis=1, inplace=True)"
   ]
  },
  {
   "cell_type": "code",
   "execution_count": null,
   "metadata": {},
   "outputs": [],
   "source": [
    "N = 6\n",
    "ind = np.arange(N)\n",
    "fig, ax = plt.subplots()\n",
    "# my_pal = {\"['Colorless']\" : 'yellow', \"['White']\":'white' ,palette=my_pal \"['Red']\": 'brown', \"['Green']\":\"g\", \"['Blue']\" : 'blue', \"['Black']\" : 'grey'}\n",
    "sns.boxplot(x=data_df['color'], y=data_df['sureness'])\n",
    "plt.ylabel('Percentage')\n",
    "plt.xlabel(\"Card Color\")\n",
    "plt.title('How \"Sure\" the Naive Bayes Classifier is for each card')\n",
    "fig.set_size_inches(9.7, 7.27)"
   ]
  },
  {
   "cell_type": "code",
   "execution_count": null,
   "metadata": {},
   "outputs": [],
   "source": [
    "x_test_tfidf.todense()"
   ]
  },
  {
   "cell_type": "code",
   "execution_count": null,
   "metadata": {},
   "outputs": [],
   "source": [
    "actual_vs_predict = pd.DataFrame(multnb.predict(x_test_tfidf), y_test)"
   ]
  },
  {
   "cell_type": "code",
   "execution_count": null,
   "metadata": {
    "scrolled": true
   },
   "outputs": [],
   "source": [
    "actual_vs_predict.reset_index(inplace=True)"
   ]
  },
  {
   "cell_type": "code",
   "execution_count": null,
   "metadata": {},
   "outputs": [],
   "source": [
    "actual_vs_predict['predict'] = actual_vs_predict[0]"
   ]
  },
  {
   "cell_type": "code",
   "execution_count": null,
   "metadata": {},
   "outputs": [],
   "source": [
    "actual_vs_predict.drop(0,axis=1, inplace=True)"
   ]
  },
  {
   "cell_type": "code",
   "execution_count": null,
   "metadata": {},
   "outputs": [],
   "source": [
    "actual_vs_predict['True_False'] = actual_vs_predict['colors'] == actual_vs_predict['predict']"
   ]
  },
  {
   "cell_type": "code",
   "execution_count": null,
   "metadata": {},
   "outputs": [],
   "source": [
    "actual_vs_predict.head()"
   ]
  },
  {
   "cell_type": "code",
   "execution_count": null,
   "metadata": {},
   "outputs": [],
   "source": [
    "trues_df = actual_vs_predict.groupby('colors').sum()"
   ]
  },
  {
   "cell_type": "code",
   "execution_count": null,
   "metadata": {},
   "outputs": [],
   "source": [
    "test_cards_t_f = actual_vs_predict.groupby('colors').count()"
   ]
  },
  {
   "cell_type": "code",
   "execution_count": null,
   "metadata": {},
   "outputs": [],
   "source": [
    "df = trues_df.merge(test_cards_t_f, on=trues_df.index)\n",
    "df"
   ]
  },
  {
   "cell_type": "code",
   "execution_count": null,
   "metadata": {},
   "outputs": [],
   "source": [
    "df['True'] = df['True_False_x']"
   ]
  },
  {
   "cell_type": "code",
   "execution_count": null,
   "metadata": {},
   "outputs": [],
   "source": [
    "df.drop('True_False_y', axis=1, inplace=True)"
   ]
  },
  {
   "cell_type": "code",
   "execution_count": null,
   "metadata": {},
   "outputs": [],
   "source": [
    "df['Wrong'] = df['predict'] - df['True']"
   ]
  },
  {
   "cell_type": "code",
   "execution_count": null,
   "metadata": {},
   "outputs": [],
   "source": [
    "df['Percent_Right'] = df['True'] / df['predict']"
   ]
  },
  {
   "cell_type": "code",
   "execution_count": null,
   "metadata": {},
   "outputs": [],
   "source": [
    "colors = ['Black', 'Blue', \"Colorless\", 'Green', 'Red', 'White']\n",
    "plt.bar(x=colors, height=(df['Percent_Right']*100), color=['black','blue', 'brown','green','red','white'], edgecolor='black')\n",
    "plt.ylabel('Percentage Guessed Right')\n",
    "plt.title('How well a Naive Bayes Classifier guesses card color for 4 Core Sets')\n",
    "plt.xlabel('Card Color')\n",
    "plt.show;"
   ]
  },
  {
   "cell_type": "code",
   "execution_count": null,
   "metadata": {},
   "outputs": [],
   "source": [
    "import seaborn as sns"
   ]
  },
  {
   "cell_type": "code",
   "execution_count": null,
   "metadata": {},
   "outputs": [],
   "source": [
    "from operator import itemgetter\n",
    "\n",
    "\n",
    "card_color_max_sureness =[]\n",
    "for x in range(0, len(color_sureness)):\n",
    "    card_color_max_sureness.append(max(color_sureness[0],key=itemgetter(1))[1])"
   ]
  },
  {
   "cell_type": "code",
   "execution_count": null,
   "metadata": {},
   "outputs": [],
   "source": [
    "four_mtg_df['colors'].value_counts()\n"
   ]
  },
  {
   "cell_type": "code",
   "execution_count": null,
   "metadata": {},
   "outputs": [],
   "source": [
    "color_count = []\n",
    "for x in range(0, len(four_mtg_df['colors'].unique())):\n",
    "    color_count.append(four_mtg_df['colors'].value_counts()[x])"
   ]
  },
  {
   "cell_type": "code",
   "execution_count": null,
   "metadata": {},
   "outputs": [],
   "source": [
    "color_count"
   ]
  },
  {
   "cell_type": "code",
   "execution_count": null,
   "metadata": {},
   "outputs": [],
   "source": [
    "colors = [\"Colorless\", 'White', 'Red', 'Green', 'Blue', 'Black']"
   ]
  },
  {
   "cell_type": "code",
   "execution_count": null,
   "metadata": {},
   "outputs": [],
   "source": [
    "plt.bar(colors, color_count, color=['brown', 'white', 'red', 'green','blue', 'black'], edgecolor='black')\n",
    "plt.xlabel(\"Card Color\")\n",
    "plt.ylabel(\"Number of Cards\")\n",
    "plt.title(\"Distribution of Card Colors over 4 'Core' MTG sets\");"
   ]
  },
  {
   "cell_type": "code",
   "execution_count": null,
   "metadata": {},
   "outputs": [],
   "source": [
    "keep = set(feature_limited_df['feature'])"
   ]
  },
  {
   "cell_type": "code",
   "execution_count": null,
   "metadata": {},
   "outputs": [],
   "source": [
    "multNB = MultinomialNB()"
   ]
  },
  {
   "cell_type": "code",
   "execution_count": null,
   "metadata": {},
   "outputs": [],
   "source": [
    "multNB.fit(x_train_tfidf[:, keep_columns], y_train)"
   ]
  },
  {
   "cell_type": "code",
   "execution_count": null,
   "metadata": {},
   "outputs": [],
   "source": [
    "multNB.score(X_test_limited, y_test)"
   ]
  },
  {
   "cell_type": "code",
   "execution_count": null,
   "metadata": {},
   "outputs": [],
   "source": []
  }
 ],
 "metadata": {
  "kernelspec": {
   "display_name": "Python 3",
   "language": "python",
   "name": "python3"
  },
  "language_info": {
   "codemirror_mode": {
    "name": "ipython",
    "version": 3
   },
   "file_extension": ".py",
   "mimetype": "text/x-python",
   "name": "python",
   "nbconvert_exporter": "python",
   "pygments_lexer": "ipython3",
   "version": "3.7.3"
  }
 },
 "nbformat": 4,
 "nbformat_minor": 2
}
